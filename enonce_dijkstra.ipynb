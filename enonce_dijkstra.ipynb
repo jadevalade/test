{
 "cells": [
  {
   "cell_type": "markdown",
   "metadata": {},
   "source": [
    "# TD : Graphes orientés pondérés et plus court chemin\n",
    "\n",
    "Dans ce TD, vous allez construire une classe `Graphe` permettant de représenter un graphe orienté pondéré, puis d’implémenter différentes méthodes pour manipuler ce graphe et calculer des plus courts chemins. Vous utiliserez la programmation dynamique (mémoïsation) et illustrerez vos résultats par des visualisations graphiques.\n",
    "\n",
    "---"
   ]
  },
  {
   "cell_type": "markdown",
   "metadata": {},
   "source": [
    "## Problème posé\n",
    "\n",
    "On considère un graphe orienté pondéré, c’est-à-dire un ensemble de sommets reliés par des arcs orientés, chaque arc ayant un poids (coût). On souhaite :\n",
    "\n",
    "- Représenter ce graphe en Python.\n",
    "- Ajouter des sommets et des arcs pondérés.\n",
    "- Afficher le graphe et ses arcs.\n",
    "- Calculer le plus court chemin entre deux sommets (en coût total).\n",
    "- Visualiser le graphe et le chemin optimal.\n",
    "\n",
    "---"
   ]
  },
  {
   "cell_type": "markdown",
   "metadata": {},
   "source": [
    "## Rappel : Algorithme de Dijkstra\n",
    "\n",
    "L’algorithme de Dijkstra permet de trouver le plus court chemin (en coût) entre un sommet de départ et tous les autres sommets d’un graphe orienté pondéré à poids positifs. Il fonctionne en explorant les sommets atteignables depuis le départ, en mettant à jour les coûts minimaux, jusqu’à atteindre la destination.\n",
    "\n",
    "**Principe général :**\n",
    "1. Initialiser la distance du sommet de départ à 0, et celle des autres à l’infini.\n",
    "2. Tant qu’il reste des sommets non traités :\n",
    "    - Sélectionner le sommet non traité de distance minimale.\n",
    "    - Mettre à jour les distances de ses voisins si un chemin plus court est trouvé.\n",
    "    - Marquer ce sommet comme traité.\n",
    "3. Reconstituer le chemin optimal à partir des prédécesseurs.\n",
    "\n",
    "---"
   ]
  },
  {
   "cell_type": "markdown",
   "metadata": {},
   "source": [
    "# Questions\n",
    "\n",
    "\n",
    "---"
   ]
  },
  {
   "cell_type": "markdown",
   "metadata": {
    "vscode": {
     "languageId": "markdown"
    }
   },
   "source": [
    "### 1. Représentation du graphe\n",
    "\n",
    "Créer un fichier .py pour répondre aux questions. \n",
    "\n",
    "**Q1.1** Proposez une structure de données pour représenter un graphe orienté pondéré en Python. Implémentez une classe `Graphe` avec un attribut pour stocker les arcs et leurs poids.\n",
    "\n",
    "#### Spécification de la classe `Graphe` :\n",
    "\n",
    "- **Attributs principaux :**\n",
    "    - `arcs` : `dict[str, dict[str, float]]`\n",
    "        - Dictionnaire associant à chaque sommet source un dictionnaire de voisins et de poids d’arêtes.\n",
    "        - Exemple : `{'A': {'B': 3.0, 'C': 1.5}, 'B': {'C': 2.0}}`\n",
    "        - **Valeur par défaut** : dictionnaire vide (`{}`)\n",
    "\n",
    "    - `sommets` : `set[str]`\n",
    "        - Ensemble des sommets présents dans le graphe.\n",
    "        - **Valeur par défaut** : ensemble vide (`set()`)\n",
    "\n",
    "- **Remarque :**\n",
    "    - Les types de sommets sont des chaînes de caractères (`str`).\n",
    "    - Les poids sont des nombres réels (`float` ou `int`).\n",
    "\n",
    "--- "
   ]
  },
  {
   "cell_type": "markdown",
   "metadata": {},
   "source": [
    "### 2. Ajout de sommets et d’arêtes\n",
    "\n",
    "Implémentez les méthodes suivantes dansj la classe `Graphe` :e v\n",
    "\n",
    "- `ajouter_sommet(self, sommet: str)`: ajoute le sommet à l’ensemble des sommets si ce n’est pas déjà fait.\n",
    "- `ajouter_arete(self, source: str, destination: str, poids: float)`: ajoute une arête orientée de `source` vers `destination` avec le poids donné. Si les sommets n’existent pas, ils sont ajoutés automatiquement.\n",
    "---"
   ]
  },
  {
   "cell_type": "markdown",
   "metadata": {},
   "source": [
    "### 3. Affichage du graphe\n",
    "\n",
    "**Q3.1** Ajoutez une méthode `afficher_arcs(self)` dans la classe `Graphe` pour afficher la liste des arcs du graphe avec leurs poids.\n",
    "\n",
    "- **Paramètres** : aucun (méthode d’instance).\n",
    "- **Sortie** : affiche à l’écran chaque arc sous la forme `(source, destination, poids)`.\n",
    "- **Traitement** : parcourt le dictionnaire des arcs et affiche chaque arête avec son poids.\n",
    "- **Utilité** : permet de visualiser rapidement la structure du graphe et les coûts associés à chaque arc.\n"
   ]
  },
  {
   "cell_type": "markdown",
   "metadata": {},
   "source": [
    "### 4. Plus court chemin par programmation dynamique\n",
    "\n",
    "---\n",
    "\n",
    "**Q4.1** Implémentez une méthode récursive avec mémoïsation pour calculer le plus court chemin entre deux sommets.\n",
    "\n",
    "- **Nom de la méthode** : `plus_court_chemin_rec(self, depart, arrivee, memo)`\n",
    "- **Paramètres** :\n",
    "    - `depart` : sommet de départ (`str`)\n",
    "    - `arrivee` : sommet d’arrivée (`str`)\n",
    "    - `memo` : dictionnaire de mémoïsation pour stocker les résultats intermédiaires\n",
    "- **Sortie** : retourne un tuple `(coût, chemin)` où `coût` est la somme des poids et `chemin` la liste des sommets du chemin optimal.\n",
    "- **Traitement** : utilise la récursivité et la mémoïsation pour éviter les recalculs inutiles.\n",
    "- **Utilité** : trouver efficacement le plus court chemin dans le graphe, même pour des graphes de grande taille.\n",
    "\n",
    "---"
   ]
  },
  {
   "cell_type": "markdown",
   "metadata": {},
   "source": [
    "\n",
    "**Q5.1** Ajoutez une méthode utilisateur qui initialise la mémoïsation et retourne le coût et le chemin optimal entre deux sommets.\n",
    "\n",
    "- **Nom de la méthode** : `plus_court_chemin(self, depart, arrivee)`\n",
    "- **Paramètres** :\n",
    "    - `depart` : sommet de départ (`str`)\n",
    "    - `arrivee` : sommet d’arrivée (`str`)\n",
    "- **Sortie** : retourne un tuple `(coût, chemin)` comme précédemment.\n",
    "- **Traitement** : crée un dictionnaire vide pour la mémoïsation et appelle la méthode récursive.\n",
    "- **Utilité** : interface simple pour l’utilisateur afin de calculer le plus court chemin sans gérer la mémoïsation.\n",
    "\n",
    "---"
   ]
  },
  {
   "cell_type": "markdown",
   "metadata": {},
   "source": [
    "### 6. Visualisation\n",
    "\n",
    "**Q6.1** Ajoutez une méthode pour afficher le graphe avec `networkx` et `matplotlib`.\n",
    "\n",
    "- **Nom de la méthode** : `afficher_graphe(self)`\n",
    "- **Paramètres** : aucun.\n",
    "- **Sortie** : affiche une représentation graphique du graphe.\n",
    "- **Traitement** : utilise `networkx` pour créer le graphe et `matplotlib` pour l’afficher, avec les poids sur les arcs.\n",
    "- **Utilité** : visualiser la structure du graphe de façon claire et intuitive.\n",
    "\n",
    "**Q6.2** Ajoutez une méthode pour afficher le chemin optimal trouvé, en le mettant en évidence sur le graphe.\n",
    "\n",
    "- **Nom de la méthode** : `afficher_chemin(self, chemin)`\n",
    "- **Paramètres** :\n",
    "    - `chemin` : liste des sommets du chemin optimal.\n",
    "- **Sortie** : affiche le graphe avec le chemin optimal surligné.\n",
    "- **Traitement** : dessine le graphe et met en évidence les arcs du chemin optimal (couleur différente, épaisseur, etc.).\n",
    "- **Utilité** : permet de visualiser le résultat de l’algorithme de plus court chemin.\n",
    "\n",
    "---"
   ]
  },
  {
   "cell_type": "markdown",
   "metadata": {},
   "source": [
    "### 7. Expérimentation\n",
    "\n",
    "---\n",
    "\n",
    "**Q7.1** Créez le graphe ; \n",
    "\n",
    "g = Graphe()\n",
    "Ajout des arêtes : graphe orienté pondéré\n",
    "    - g.ajouter_arete('A', 'B', 2)\n",
    "    - g.ajouter_arete('A', 'C', 5)\n",
    "    - g.ajouter_arete('B', 'C', 1)\n",
    "    - g.ajouter_arete('B', 'D', 4)\n",
    "    - g.ajouter_arete('C', 'D', 1)\n",
    "    - g.ajouter_arete('D', 'E', 3)\n",
    "    - g.ajouter_arete('C', 'E', 7)\n",
    "\n",
    "puis affichez : \n",
    "\n",
    "- La liste des arcs (avec la méthode `afficher_arcs`)\n",
    "- Le graphe et le chemin optimal en image (avec les méthodes de visualisation)\n",
    "\n",
    "---"
   ]
  },
  {
   "cell_type": "markdown",
   "metadata": {},
   "source": [
    "## Pour aller plus loin\n",
    "\n",
    "- Modifiez la classe pour gérer les graphes non orientés.\n",
    "- Comparez la solution récursive/mémoïsée avec l’algorithme de Dijkstra classique (itératif avec file de priorité).\n",
    "\n",
    "---\n",
    "\n",
    "_Bonne programmation !_"
   ]
  }
 ],
 "metadata": {
  "kernelspec": {
   "display_name": "Python 3",
   "language": "python",
   "name": "python3"
  },
  "language_info": {
   "codemirror_mode": {
    "name": "ipython",
    "version": 3
   },
   "file_extension": ".py",
   "mimetype": "text/x-python",
   "name": "python",
   "nbconvert_exporter": "python",
   "pygments_lexer": "ipython3",
   "version": "3.12.1"
  }
 },
 "nbformat": 4,
 "nbformat_minor": 2
}
