{
 "cells": [
  {
   "cell_type": "markdown",
   "id": "cfc48729",
   "metadata": {},
   "source": [
    "# TP : Le Problème du Voyageur de Commerce (TSP)\n",
    "\n",
    "Le problème du voyageur de commerce (ou TSP, pour *Travelling Salesman Problem*) est un problème classique d'optimisation combinatoire. Il s'agit de trouver le plus court chemin permettant à un voyageur de visiter une liste donnée de villes une seule fois chacune, puis de revenir à son point de départ.\n",
    "\n",
    "Plus formellement, étant donné un ensemble de villes et les distances entre chaque paire de villes, le but est de déterminer l'ordre de visite des villes minimisant la distance totale parcourue.\n",
    "\n",
    "Ce problème est réputé difficile (NP-complet) et possède de nombreuses applications pratiques, notamment en logistique, planification de tournées, ou conception de circuits électroniques.\n",
    "\n",
    "Dans ce TP, vous allez :\n",
    "- Générer aléatoirement un ensemble de villes dans le plan.\n",
    "- Visualiser le parcours du voyageur.\n",
    "- Implémenter et comparer différentes heuristiques pour trouver un chemin court.\n",
    "- Améliorer la solution en éliminant les croisements dans le parcours.\n",
    "\n",
    "L'objectif est de comprendre les enjeux du TSP et d'expérimenter différentes approches algorithmiques pour l'aborder."
   ]
  },
  {
   "cell_type": "markdown",
   "id": "31611275",
   "metadata": {},
   "source": [
    "## Question 1\n",
    "\n",
    "Générez aléatoirement un ensemble de 20 villes dans le plan, chacune représentée par ses coordonnées (x, y) comprises entre 0 et 1. Affichez les coordonnées des 5 premières villes générées."
   ]
  },
  {
   "cell_type": "code",
   "execution_count": 1,
   "id": "c65beb65",
   "metadata": {},
   "outputs": [],
   "source": [
    "#code here\n"
   ]
  },
  {
   "cell_type": "markdown",
   "id": "db86d6d1",
   "metadata": {},
   "source": [
    "## Question 2\n",
    "\n",
    "Représentez graphiquement l'ensemble des villes générées sur un plan, en reliant les villes dans l'ordre du chemin trouvé par l'algorithme du plus proche voisin. Utilisez des points pour les villes et reliez-les par des segments pour visualiser le parcours complet du voyageur. Indiquez également la ville de départ et la ville d'arrivée sur le graphique."
   ]
  },
  {
   "cell_type": "code",
   "execution_count": 2,
   "id": "6ff98cf0",
   "metadata": {},
   "outputs": [],
   "source": [
    "#code here "
   ]
  },
  {
   "cell_type": "markdown",
   "id": "0a0f4a82",
   "metadata": {
    "vscode": {
     "languageId": "markdown"
    }
   },
   "source": [
    "## Question 3\n",
    "\n",
    "Implémentez les trois fonctions suivantes, qui seront utilisées pour construire une solution heuristique du TSP par l’algorithme du plus proche voisin :\n",
    "\n",
    "- **distance(v1, v2)**  \n",
    "    Calcule et retourne la distance euclidienne entre deux villes `v1` et `v2`, chacune représentée par un tableau numpy de coordonnées (x, y).  \n",
    "    **Paramètres :**  \n",
    "    - `v1` : numpy.ndarray, coordonnées de la première ville  \n",
    "    - `v2` : numpy.ndarray, coordonnées de la seconde ville  \n",
    "    **Retour :**  \n",
    "    - Un flottant correspondant à la distance euclidienne entre `v1` et `v2`.\n",
    "\n",
    "- **plus_proche_non_visitee(villes, chemin)**  \n",
    "    Trouve, parmi les villes non encore visitées, celle qui est la plus proche de la dernière ville visitée.  \n",
    "    **Paramètres :**  \n",
    "    - `villes` : numpy.ndarray de forme (n, 2), contenant les coordonnées de toutes les villes  \n",
    "    - `chemin` : liste d’indices des villes déjà visitées (dans l’ordre)  \n",
    "    **Retour :**  \n",
    "    - L’indice de la ville la plus proche non encore visitée.\n",
    "\n",
    "- **algo_proche_en_proche(villes)**  \n",
    "    Construit un chemin passant par toutes les villes en partant de la première (indice 0), puis en allant à chaque étape vers la ville non visitée la plus proche, jusqu’à ce que toutes les villes soient visitées.  \n",
    "    **Paramètres :**  \n",
    "    - `villes` : numpy.ndarray de forme (n, 2), contenant les coordonnées de toutes les villes  \n",
    "    **Retour :**  \n",
    "    - Une liste d’indices représentant l’ordre de visite des villes selon l’algorithme du plus proche voisin.\n",
    "\n",
    "**Attendus :**  \n",
    "- Implémentez ces trois fonctions dans une cellule de code.\n",
    "- Commentez brièvement le rôle de chaque fonction.\n",
    "- Vérifiez que l’algorithme retourne bien un chemin contenant tous les indices de villes, sans répétition."
   ]
  },
  {
   "cell_type": "code",
   "execution_count": 3,
   "id": "cc7a5d84",
   "metadata": {},
   "outputs": [],
   "source": [
    "# code here"
   ]
  },
  {
   "cell_type": "markdown",
   "id": "0114994f",
   "metadata": {
    "vscode": {
     "languageId": "ini"
    }
   },
   "source": [
    "## Question 4\n",
    "\n",
    "Implémentez la fonction **elimine_croisements(villes, chemin)** qui améliore un chemin existant en éliminant les croisements entre segments du parcours.\n",
    "\n",
    "### Objectif :\n",
    "Lorsqu’un chemin du TSP contient des croisements (deux segments qui se coupent), il est toujours possible de raccourcir la distance totale en \"décroisant\" ces segments. Éliminer les croisements permet donc d’obtenir un chemin plus court, souvent significativement meilleur que la solution initiale donnée par une heuristique simple comme le plus proche voisin.\n",
    "\n",
    "### Idée de la fonction :\n",
    "La fonction parcourt toutes les paires de segments du chemin. Si deux segments se croisent, elle inverse l’ordre des villes entre ces deux segments pour supprimer le croisement. Cette opération est répétée jusqu’à ce qu’il n’y ait plus de croisements dans le chemin.\n",
    "\n",
    "### Paramètres :\n",
    "- `villes` : numpy.ndarray de forme (n, 2), contenant les coordonnées de toutes les villes.\n",
    "- `chemin` : liste d’indices représentant l’ordre de visite des villes (modifié en place).\n",
    "\n",
    "### Retour :\n",
    "- La fonction ne retourne rien, mais modifie le chemin passé en argument pour supprimer les croisements.\n",
    "\n",
    "### Pourquoi éliminer les croisements ?\n",
    "Un chemin avec des croisements n’est jamais optimal : chaque croisement peut être supprimé pour réduire la longueur totale du parcours. Cette étape d’optimisation locale permet d’améliorer sensiblement la solution obtenue par une heuristique simple, sans garantir l’optimalité globale mais en s’en rapprochant.\n",
    "\n",
    "**À faire :**\n",
    "- Implémentez la fonction `elimine_croisements`.\n",
    "- Appliquez-la sur le chemin trouvé précédemment et affichez le nouveau parcours.\n",
    "- Comparez la longueur du chemin avant et après élimination des croisements."
   ]
  },
  {
   "cell_type": "code",
   "execution_count": 4,
   "id": "fe7dd85f",
   "metadata": {},
   "outputs": [],
   "source": [
    "# code here\n"
   ]
  }
 ],
 "metadata": {
  "kernelspec": {
   "display_name": "Python 3",
   "language": "python",
   "name": "python3"
  },
  "language_info": {
   "codemirror_mode": {
    "name": "ipython",
    "version": 3
   },
   "file_extension": ".py",
   "mimetype": "text/x-python",
   "name": "python",
   "nbconvert_exporter": "python",
   "pygments_lexer": "ipython3",
   "version": "3.12.1"
  }
 },
 "nbformat": 4,
 "nbformat_minor": 5
}
